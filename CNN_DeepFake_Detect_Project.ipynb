{
  "metadata": {
    "kernelspec": {
      "language": "python",
      "display_name": "Python 3",
      "name": "python3"
    },
    "language_info": {
      "name": "python",
      "version": "3.10.14",
      "mimetype": "text/x-python",
      "codemirror_mode": {
        "name": "ipython",
        "version": 3
      },
      "pygments_lexer": "ipython3",
      "nbconvert_exporter": "python",
      "file_extension": ".py"
    },
    "kaggle": {
      "accelerator": "nvidiaTeslaT4",
      "dataSources": [
        {
          "sourceId": 3134515,
          "sourceType": "datasetVersion",
          "datasetId": 1909705
        }
      ],
      "dockerImageVersionId": 30787,
      "isInternetEnabled": true,
      "language": "python",
      "sourceType": "notebook",
      "isGpuEnabled": true
    }
  },
  "nbformat_minor": 4,
  "nbformat": 4,
  "cells": [
    {
      "cell_type": "code",
      "source": "import os\nimport random\nimport shutil\nimport matplotlib.pyplot as plt\nimport tensorflow as tf\nfrom tensorflow.keras.layers import Dense, Flatten, Conv2D, MaxPooling2D, Dropout, BatchNormalization\nfrom tensorflow.keras.preprocessing.image import ImageDataGenerator\nfrom tensorflow.keras.callbacks import EarlyStopping\nfrom sklearn.model_selection import ParameterGrid",
      "metadata": {
        "_uuid": "8f2839f25d086af736a60e9eeb907d3b93b6e0e5",
        "_cell_guid": "b1076dfc-b9ad-4769-8c92-a6c4dae69d19",
        "trusted": true,
        "execution": {
          "iopub.status.busy": "2024-11-29T16:33:02.802699Z",
          "iopub.execute_input": "2024-11-29T16:33:02.803321Z",
          "iopub.status.idle": "2024-11-29T16:33:16.313519Z",
          "shell.execute_reply.started": "2024-11-29T16:33:02.803252Z",
          "shell.execute_reply": "2024-11-29T16:33:16.312679Z"
        }
      },
      "outputs": [],
      "execution_count": null
    },
    {
      "cell_type": "code",
      "source": "BASE_DIR = \"/kaggle/input/deepfake-and-real-images/Dataset\"\nSAMPLED_DIR = \"./sampled_data\"\nGRID_SAMPLED_DIR = \"./sampled_data2\"\nos.makedirs(SAMPLED_DIR, exist_ok=True)\nos.makedirs(GRID_SAMPLED_DIR, exist_ok=True)",
      "metadata": {
        "trusted": true,
        "execution": {
          "iopub.status.busy": "2024-11-29T16:33:19.044996Z",
          "iopub.execute_input": "2024-11-29T16:33:19.046089Z",
          "iopub.status.idle": "2024-11-29T16:33:19.051315Z",
          "shell.execute_reply.started": "2024-11-29T16:33:19.046050Z",
          "shell.execute_reply": "2024-11-29T16:33:19.050142Z"
        }
      },
      "outputs": [],
      "execution_count": null
    },
    {
      "cell_type": "code",
      "source": "# Function to sample num_samples images per class\ndef sample_images(source_dir, dest_dir, num_samples):\n    os.makedirs(dest_dir, exist_ok=True)\n    images = [f for f in os.listdir(source_dir) if f.endswith(('.jpg', '.jpeg', '.png'))]\n    selected_images = random.sample(images, min(len(images), num_samples))\n    for img in selected_images:\n        shutil.copy(os.path.join(source_dir, img), os.path.join(dest_dir, img))\n        \n# Select 2000 images for training, validation, and testing, 1000 for grid parameter search\nfor dataset in [\"Train\", \"Validation\", \"Test\"]:\n    for label in [\"Real\", \"Fake\"]:\n        source = os.path.join(BASE_DIR, dataset, label)\n        dest = os.path.join(SAMPLED_DIR, dataset, label)\n        dest2 = os.path.join(GRID_SAMPLED_DIR, dataset, label)\n        sample_images(source, dest, 4000)\n        print(\"Sample Images Done\")\n        sample_images(source, dest2, 800)\n        print(\"Sample Grid Images Done\")",
      "metadata": {
        "trusted": true,
        "execution": {
          "iopub.status.busy": "2024-11-29T16:33:21.702564Z",
          "iopub.execute_input": "2024-11-29T16:33:21.703427Z",
          "iopub.status.idle": "2024-11-29T16:35:20.977287Z",
          "shell.execute_reply.started": "2024-11-29T16:33:21.703380Z",
          "shell.execute_reply": "2024-11-29T16:35:20.976268Z"
        }
      },
      "outputs": [],
      "execution_count": null
    },
    {
      "cell_type": "code",
      "source": "# Display some sample images\ntrain_fake_dir = os.path.join(SAMPLED_DIR, \"Train\", \"Fake\")\ntrain_real_dir = os.path.join(SAMPLED_DIR, \"Train\", \"Real\")\n\nplt.figure(figsize=(6, 6))\nplt.subplot(1,2,1)\nplt.imshow(tf.keras.utils.load_img(os.path.join(train_fake_dir, os.listdir(train_fake_dir)[0])))\nplt.title('Sample Fake')\n\nplt.subplot(1,2,2)\nplt.imshow(tf.keras.utils.load_img(os.path.join(train_real_dir, os.listdir(train_real_dir)[0])))\nplt.title('Sample Real')\n\nplt.tight_layout()\nplt.show()",
      "metadata": {
        "trusted": true,
        "execution": {
          "iopub.status.busy": "2024-11-29T16:35:20.979210Z",
          "iopub.execute_input": "2024-11-29T16:35:20.979536Z",
          "iopub.status.idle": "2024-11-29T16:35:21.635872Z",
          "shell.execute_reply.started": "2024-11-29T16:35:20.979506Z",
          "shell.execute_reply": "2024-11-29T16:35:21.634700Z"
        }
      },
      "outputs": [],
      "execution_count": null
    },
    {
      "cell_type": "code",
      "source": "# Early Stopping\n# class MyCallback(tf.keras.callbacks.Callback):\n#     def on_epoch_end(self, epoch, logs=None):\n#         if logs.get('accuracy') > 0.90 and logs.get('val_accuracy') > 0.90:\n#             self.model.stop_training = True\n\n# custom_callback = MyCallback()\n\nearly_stopping = EarlyStopping(\n    monitor='val_loss',\n    patience=6,\n    mode='min',\n    min_delta=0.001,\n    restore_best_weights=True\n)",
      "metadata": {
        "trusted": true,
        "execution": {
          "iopub.status.busy": "2024-11-29T16:35:21.646185Z",
          "iopub.execute_input": "2024-11-29T16:35:21.646963Z",
          "iopub.status.idle": "2024-11-29T16:35:21.656383Z",
          "shell.execute_reply.started": "2024-11-29T16:35:21.646919Z",
          "shell.execute_reply": "2024-11-29T16:35:21.655113Z"
        }
      },
      "outputs": [],
      "execution_count": null
    },
    {
      "cell_type": "code",
      "source": "# Grid Model Definition\n\ndef create_model(optimiser,lr,batch_s):\n    # Grid Image Data Generators\n    grid_train_data = os.path.join(GRID_SAMPLED_DIR, \"Train\")\n    grid_validation_data = os.path.join(GRID_SAMPLED_DIR, \"Validation\")\n    grid_test_data = os.path.join(GRID_SAMPLED_DIR, \"Test\")\n    \n    grid_train_datagen = ImageDataGenerator(rescale=1./255)\n    grid_val_datagen = ImageDataGenerator(rescale=1./255)\n    grid_test_datagen = ImageDataGenerator(rescale=1./255)\n    \n    grid_train_generator = grid_train_datagen.flow_from_directory(grid_train_data,target_size=(128, 128),batch_size=batch_s,class_mode='categorical')\n    grid_val_generator = grid_val_datagen.flow_from_directory(grid_validation_data,target_size=(128, 128),batch_size=batch_s,class_mode='categorical')\n    grid_test_generator = grid_test_datagen.flow_from_directory(grid_test_data, target_size=(128, 128), batch_size=batch_s,class_mode='categorical')\n\n\n    grid_model = tf.keras.models.Sequential([\n        tf.keras.layers.Conv2D(32, (3, 3), activation='relu', input_shape=(128, 128, 3)),\n        BatchNormalization(),\n        tf.keras.layers.MaxPooling2D(2, 2),\n        Dropout(0.20),\n    \n        tf.keras.layers.Conv2D(64, (3, 3), activation='relu'),\n        tf.keras.layers.MaxPooling2D(2, 2),\n        BatchNormalization(),\n        Dropout(0.20),\n    \n        tf.keras.layers.Conv2D(64, (3, 3), activation='relu'),\n        tf.keras.layers.MaxPooling2D(2, 2),\n        BatchNormalization(),\n        Dropout(0.20),\n    \n        tf.keras.layers.Conv2D(128, (3, 3), activation='relu'),\n        tf.keras.layers.MaxPooling2D(2, 2),\n        BatchNormalization(),\n        Dropout(0.20),\n    \n        tf.keras.layers.Flatten(),\n        Dropout(0.20),\n        tf.keras.layers.Dense(256, activation='relu'),\n        tf.keras.layers.Dense(2, activation='softmax')\n    ])\n    if optimiser==\"adam\":\n        grid_model.compile(loss=\"binary_crossentropy\", optimizer=tf.optimizers.Adam(learning_rate=lr), metrics=['accuracy'])\n    else:\n        grid_model.compile(loss=\"binary_crossentropy\", optimizer=tf.optimizers.RMSprop(learning_rate=lr), metrics=['accuracy'])\n    return grid_model,grid_train_generator,grid_val_generator",
      "metadata": {
        "trusted": true,
        "execution": {
          "iopub.status.busy": "2024-11-29T16:36:23.387729Z",
          "iopub.execute_input": "2024-11-29T16:36:23.388133Z",
          "iopub.status.idle": "2024-11-29T16:36:23.399271Z",
          "shell.execute_reply.started": "2024-11-29T16:36:23.388098Z",
          "shell.execute_reply": "2024-11-29T16:36:23.398335Z"
        }
      },
      "outputs": [],
      "execution_count": null
    },
    {
      "cell_type": "code",
      "source": "param_grid = {\n    'optimizer': [\"adam\",\"rmsprop\"],\n    'batch_size': [32,64],\n    'learning_rate': [0.001, 0.0001]\n}\ngrid = ParameterGrid(param_grid)",
      "metadata": {
        "trusted": true,
        "execution": {
          "iopub.status.busy": "2024-11-29T16:36:25.252995Z",
          "iopub.execute_input": "2024-11-29T16:36:25.253360Z",
          "iopub.status.idle": "2024-11-29T16:36:25.258262Z",
          "shell.execute_reply.started": "2024-11-29T16:36:25.253330Z",
          "shell.execute_reply": "2024-11-29T16:36:25.257178Z"
        }
      },
      "outputs": [],
      "execution_count": null
    },
    {
      "cell_type": "code",
      "source": "def train_grid_model(params):\n    grid_model,train_generator,val_generator = create_model(params['optimizer'], params['learning_rate'], params['batch_size'])\n    history = grid_model.fit(\n        train_generator,\n        epochs=20,\n        validation_data=val_generator,\n        verbose=1,\n        callbacks=[early_stopping]\n    )\n    \n    return grid_model, history",
      "metadata": {
        "trusted": true,
        "execution": {
          "iopub.status.busy": "2024-11-29T16:37:26.467740Z",
          "iopub.execute_input": "2024-11-29T16:37:26.468606Z",
          "iopub.status.idle": "2024-11-29T16:37:26.473814Z",
          "shell.execute_reply.started": "2024-11-29T16:37:26.468570Z",
          "shell.execute_reply": "2024-11-29T16:37:26.472716Z"
        }
      },
      "outputs": [],
      "execution_count": null
    },
    {
      "cell_type": "code",
      "source": "best_model=None\nbest_accuracy=0\nbest_params=None\nval_accuracy_history={}\na=0\n\nfor params in grid:\n    print(f\"Training with params: {params}\")\n    curr_model, history = train_grid_model(params)\n    val_accuracy = max(history.history['val_accuracy'])\n    print(f\"Validation Accuracy: {val_accuracy}\\n\")\n\n    val_accuracy_history[a]=(params,history.history['val_accuracy'])\n    a+=1\n    \n    if val_accuracy > best_accuracy:\n        best_model = curr_model\n        best_accuracy = val_accuracy\n        best_params = params",
      "metadata": {
        "trusted": true,
        "execution": {
          "iopub.status.busy": "2024-11-29T16:37:28.478730Z",
          "iopub.execute_input": "2024-11-29T16:37:28.479564Z",
          "iopub.status.idle": "2024-11-29T16:42:02.948794Z",
          "shell.execute_reply.started": "2024-11-29T16:37:28.479532Z",
          "shell.execute_reply": "2024-11-29T16:42:02.947754Z"
        }
      },
      "outputs": [],
      "execution_count": null
    },
    {
      "cell_type": "code",
      "source": "plt.figure(figsize=(10,10))\nfor i in val_accuracy_history:\n    params,acc_history=val_accuracy_history[i]\n    plt.plot(acc_history,label=params)\nplt.title(\"Grid Search Params vs Accuracies\")\nplt.legend()\nplt.show()",
      "metadata": {
        "trusted": true,
        "execution": {
          "iopub.status.busy": "2024-11-29T16:43:12.463401Z",
          "iopub.execute_input": "2024-11-29T16:43:12.463813Z",
          "iopub.status.idle": "2024-11-29T16:43:12.903568Z",
          "shell.execute_reply.started": "2024-11-29T16:43:12.463780Z",
          "shell.execute_reply": "2024-11-29T16:43:12.902693Z"
        }
      },
      "outputs": [],
      "execution_count": null
    },
    {
      "cell_type": "code",
      "source": "if best_model:\n    print(f\"Best Hyperparameters are : {best_params}\")",
      "metadata": {
        "trusted": true,
        "execution": {
          "iopub.status.busy": "2024-11-29T16:43:22.257192Z",
          "iopub.execute_input": "2024-11-29T16:43:22.258130Z",
          "iopub.status.idle": "2024-11-29T16:43:22.263209Z",
          "shell.execute_reply.started": "2024-11-29T16:43:22.258093Z",
          "shell.execute_reply": "2024-11-29T16:43:22.262086Z"
        }
      },
      "outputs": [],
      "execution_count": null
    },
    {
      "cell_type": "code",
      "source": "# Image Data Generators\nbest_batch_size=best_params['batch_size']\ntrain_data = os.path.join(SAMPLED_DIR, \"Train\")\nvalidation_data = os.path.join(SAMPLED_DIR, \"Validation\")\ntest_data = os.path.join(SAMPLED_DIR, \"Test\")\n\ntrain_datagen = ImageDataGenerator(rescale=1./255)\nval_datagen = ImageDataGenerator(rescale=1./255)\ntest_datagen = ImageDataGenerator(rescale=1./255)\n\ntrain_generator = train_datagen.flow_from_directory(train_data,target_size=(128, 128),batch_size=best_batch_size,class_mode='categorical')\nval_generator = val_datagen.flow_from_directory(validation_data,target_size=(128, 128),batch_size=best_batch_size,class_mode='categorical')\ntest_generator = test_datagen.flow_from_directory(test_data, target_size=(128, 128), batch_size=best_batch_size,class_mode='categorical')",
      "metadata": {
        "trusted": true,
        "execution": {
          "iopub.status.busy": "2024-11-29T16:49:23.888319Z",
          "iopub.execute_input": "2024-11-29T16:49:23.888702Z",
          "iopub.status.idle": "2024-11-29T16:49:24.248663Z",
          "shell.execute_reply.started": "2024-11-29T16:49:23.888670Z",
          "shell.execute_reply": "2024-11-29T16:49:24.247641Z"
        }
      },
      "outputs": [],
      "execution_count": null
    },
    {
      "cell_type": "code",
      "source": "# Model Definition\nmodel = tf.keras.models.Sequential([\n    tf.keras.layers.Conv2D(32, (3, 3), activation='relu', input_shape=(128, 128, 3)),\n    BatchNormalization(),\n    tf.keras.layers.MaxPooling2D(2, 2),\n    Dropout(0.20),\n\n    tf.keras.layers.Conv2D(64, (3, 3), activation='relu'),\n    tf.keras.layers.MaxPooling2D(2, 2),\n    BatchNormalization(),\n    Dropout(0.20),\n\n    tf.keras.layers.Conv2D(64, (3, 3), activation='relu'),\n    tf.keras.layers.MaxPooling2D(2, 2),\n    BatchNormalization(),\n    Dropout(0.20),\n\n    tf.keras.layers.Conv2D(128, (3, 3), activation='relu'),\n    tf.keras.layers.MaxPooling2D(2, 2),\n    BatchNormalization(),\n    Dropout(0.20),\n\n    tf.keras.layers.Flatten(),\n    Dropout(0.20),\n    tf.keras.layers.Dense(256, activation='relu'),\n    tf.keras.layers.Dense(2, activation='softmax')\n])\nif best_params[\"optimizer\"]=='adam':\n    model.compile(loss='binary_crossentropy', optimizer=tf.optimizers.Adam(learning_rate=best_params[\"learning_rate\"]), metrics=['accuracy'])\nif best_params[\"optimizer\"]=='rmsprop':\n    model.compile(loss='binary_crossentropy', optimizer=tf.optimizers.RMSprop(learning_rate=best_params[\"learning_rate\"]), metrics=['accuracy'])\n    ",
      "metadata": {
        "trusted": true,
        "execution": {
          "iopub.status.busy": "2024-11-29T16:49:51.701601Z",
          "iopub.execute_input": "2024-11-29T16:49:51.702712Z",
          "iopub.status.idle": "2024-11-29T16:49:51.823650Z",
          "shell.execute_reply.started": "2024-11-29T16:49:51.702673Z",
          "shell.execute_reply": "2024-11-29T16:49:51.822793Z"
        }
      },
      "outputs": [],
      "execution_count": null
    },
    {
      "cell_type": "code",
      "source": "# Training the Model\nhistory = model.fit(\n    train_generator,\n    epochs=20,\n    verbose=1,\n    # callbacks=[custom_callback],      ###########################\n    callbacks=[early_stopping],\n    validation_data=val_generator\n)\n\n# Saving Model\nmodel.save(\"model.h5\")",
      "metadata": {
        "trusted": true,
        "execution": {
          "iopub.status.busy": "2024-11-29T16:49:57.059170Z",
          "iopub.execute_input": "2024-11-29T16:49:57.059567Z",
          "iopub.status.idle": "2024-11-29T16:52:23.658487Z",
          "shell.execute_reply.started": "2024-11-29T16:49:57.059534Z",
          "shell.execute_reply": "2024-11-29T16:52:23.657674Z"
        }
      },
      "outputs": [],
      "execution_count": null
    },
    {
      "cell_type": "code",
      "source": "train_loss, train_accuracy = model.evaluate(train_generator)\nval_loss, val_accuracy = model.evaluate(val_generator)\nprint(f\"Best Model - Training Loss: {train_loss}, Training Accuracy: {train_accuracy}\")\nprint(f\"Best Model - Validation Loss: {val_loss}, Validation Accuracy: {val_accuracy}\")",
      "metadata": {
        "trusted": true,
        "execution": {
          "iopub.status.busy": "2024-11-29T16:52:23.660036Z",
          "iopub.execute_input": "2024-11-29T16:52:23.660340Z",
          "iopub.status.idle": "2024-11-29T16:52:31.465756Z",
          "shell.execute_reply.started": "2024-11-29T16:52:23.660312Z",
          "shell.execute_reply": "2024-11-29T16:52:31.464894Z"
        }
      },
      "outputs": [],
      "execution_count": null
    },
    {
      "cell_type": "code",
      "source": "# Plotting Results\nplt.figure(figsize=(5,10))\nplt.subplot(1,2,1)\nplt.plot(history.history[\"accuracy\"])\nplt.plot(history.history[f'val_accuracy'])\nplt.title(f'Model Accuracy')\nplt.ylabel(\"Accuracy\")\nplt.xlabel('Epoch')\nplt.legend(['Train', 'Validation'])\n\nplt.subplot(1,2,2)\nplt.plot(history.history[\"loss\"])\nplt.plot(history.history[f'val_loss'])\nplt.title(f'Model Loss')\nplt.ylabel(\"Loss\")\nplt.xlabel('Epoch')\nplt.legend(['Train', 'Validation'])\nplt.show()",
      "metadata": {
        "trusted": true,
        "execution": {
          "iopub.status.busy": "2024-11-29T16:52:31.466994Z",
          "iopub.execute_input": "2024-11-29T16:52:31.467292Z",
          "iopub.status.idle": "2024-11-29T16:52:31.920261Z",
          "shell.execute_reply.started": "2024-11-29T16:52:31.467263Z",
          "shell.execute_reply": "2024-11-29T16:52:31.919250Z"
        }
      },
      "outputs": [],
      "execution_count": null
    },
    {
      "cell_type": "code",
      "source": "# Testing Model on test dataset\ntest_loss, test_accuracy = model.evaluate(test_generator)\nprint(f\"Best Model - Test Loss: {test_loss}, Test Accuracy: {test_accuracy}\")",
      "metadata": {
        "trusted": true,
        "execution": {
          "iopub.status.busy": "2024-11-29T16:52:31.921933Z",
          "iopub.execute_input": "2024-11-29T16:52:31.922244Z",
          "iopub.status.idle": "2024-11-29T16:52:35.953357Z",
          "shell.execute_reply.started": "2024-11-29T16:52:31.922214Z",
          "shell.execute_reply": "2024-11-29T16:52:35.952381Z"
        }
      },
      "outputs": [],
      "execution_count": null
    }
  ]
}
